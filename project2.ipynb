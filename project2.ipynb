{
  "cells": [
    {
      "cell_type": "code",
      "execution_count": 35,
      "id": "99520bea",
      "metadata": {},
      "outputs": [],
      "source": [
        "import pandas as pd"
      ]
    },
    {
      "cell_type": "code",
      "execution_count": 36,
      "id": "4e3442c2",
      "metadata": {},
      "outputs": [
        {
          "data": {
            "text/html": [
              "<div>\n",
              "<style scoped>\n",
              "    .dataframe tbody tr th:only-of-type {\n",
              "        vertical-align: middle;\n",
              "    }\n",
              "\n",
              "    .dataframe tbody tr th {\n",
              "        vertical-align: top;\n",
              "    }\n",
              "\n",
              "    .dataframe thead th {\n",
              "        text-align: right;\n",
              "    }\n",
              "</style>\n",
              "<table border=\"1\" class=\"dataframe\">\n",
              "  <thead>\n",
              "    <tr style=\"text-align: right;\">\n",
              "      <th></th>\n",
              "      <th>age</th>\n",
              "      <th>workclass</th>\n",
              "      <th>fnlwgt</th>\n",
              "      <th>education</th>\n",
              "      <th>education-num</th>\n",
              "      <th>marital-status</th>\n",
              "      <th>occupation</th>\n",
              "      <th>relationship</th>\n",
              "      <th>race</th>\n",
              "      <th>sex</th>\n",
              "      <th>capital-gain</th>\n",
              "      <th>capital-loss</th>\n",
              "      <th>hours-per-week</th>\n",
              "      <th>native-country</th>\n",
              "      <th>salary</th>\n",
              "    </tr>\n",
              "  </thead>\n",
              "  <tbody>\n",
              "    <tr>\n",
              "      <th>0</th>\n",
              "      <td>39</td>\n",
              "      <td>State-gov</td>\n",
              "      <td>77516</td>\n",
              "      <td>Bachelors</td>\n",
              "      <td>13</td>\n",
              "      <td>Never-married</td>\n",
              "      <td>Adm-clerical</td>\n",
              "      <td>Not-in-family</td>\n",
              "      <td>White</td>\n",
              "      <td>Male</td>\n",
              "      <td>2174</td>\n",
              "      <td>0</td>\n",
              "      <td>40</td>\n",
              "      <td>United-States</td>\n",
              "      <td>&lt;=50K</td>\n",
              "    </tr>\n",
              "    <tr>\n",
              "      <th>1</th>\n",
              "      <td>50</td>\n",
              "      <td>Self-emp-not-inc</td>\n",
              "      <td>83311</td>\n",
              "      <td>Bachelors</td>\n",
              "      <td>13</td>\n",
              "      <td>Married-civ-spouse</td>\n",
              "      <td>Exec-managerial</td>\n",
              "      <td>Husband</td>\n",
              "      <td>White</td>\n",
              "      <td>Male</td>\n",
              "      <td>0</td>\n",
              "      <td>0</td>\n",
              "      <td>13</td>\n",
              "      <td>United-States</td>\n",
              "      <td>&lt;=50K</td>\n",
              "    </tr>\n",
              "    <tr>\n",
              "      <th>2</th>\n",
              "      <td>38</td>\n",
              "      <td>Private</td>\n",
              "      <td>215646</td>\n",
              "      <td>HS-grad</td>\n",
              "      <td>9</td>\n",
              "      <td>Divorced</td>\n",
              "      <td>Handlers-cleaners</td>\n",
              "      <td>Not-in-family</td>\n",
              "      <td>White</td>\n",
              "      <td>Male</td>\n",
              "      <td>0</td>\n",
              "      <td>0</td>\n",
              "      <td>40</td>\n",
              "      <td>United-States</td>\n",
              "      <td>&lt;=50K</td>\n",
              "    </tr>\n",
              "    <tr>\n",
              "      <th>3</th>\n",
              "      <td>53</td>\n",
              "      <td>Private</td>\n",
              "      <td>234721</td>\n",
              "      <td>11th</td>\n",
              "      <td>7</td>\n",
              "      <td>Married-civ-spouse</td>\n",
              "      <td>Handlers-cleaners</td>\n",
              "      <td>Husband</td>\n",
              "      <td>Black</td>\n",
              "      <td>Male</td>\n",
              "      <td>0</td>\n",
              "      <td>0</td>\n",
              "      <td>40</td>\n",
              "      <td>United-States</td>\n",
              "      <td>&lt;=50K</td>\n",
              "    </tr>\n",
              "    <tr>\n",
              "      <th>4</th>\n",
              "      <td>28</td>\n",
              "      <td>Private</td>\n",
              "      <td>338409</td>\n",
              "      <td>Bachelors</td>\n",
              "      <td>13</td>\n",
              "      <td>Married-civ-spouse</td>\n",
              "      <td>Prof-specialty</td>\n",
              "      <td>Wife</td>\n",
              "      <td>Black</td>\n",
              "      <td>Female</td>\n",
              "      <td>0</td>\n",
              "      <td>0</td>\n",
              "      <td>40</td>\n",
              "      <td>Cuba</td>\n",
              "      <td>&lt;=50K</td>\n",
              "    </tr>\n",
              "  </tbody>\n",
              "</table>\n",
              "</div>"
            ],
            "text/plain": [
              "   age         workclass  fnlwgt  education  education-num  \\\n",
              "0   39         State-gov   77516  Bachelors             13   \n",
              "1   50  Self-emp-not-inc   83311  Bachelors             13   \n",
              "2   38           Private  215646    HS-grad              9   \n",
              "3   53           Private  234721       11th              7   \n",
              "4   28           Private  338409  Bachelors             13   \n",
              "\n",
              "       marital-status         occupation   relationship   race     sex  \\\n",
              "0       Never-married       Adm-clerical  Not-in-family  White    Male   \n",
              "1  Married-civ-spouse    Exec-managerial        Husband  White    Male   \n",
              "2            Divorced  Handlers-cleaners  Not-in-family  White    Male   \n",
              "3  Married-civ-spouse  Handlers-cleaners        Husband  Black    Male   \n",
              "4  Married-civ-spouse     Prof-specialty           Wife  Black  Female   \n",
              "\n",
              "   capital-gain  capital-loss  hours-per-week native-country salary  \n",
              "0          2174             0              40  United-States  <=50K  \n",
              "1             0             0              13  United-States  <=50K  \n",
              "2             0             0              40  United-States  <=50K  \n",
              "3             0             0              40  United-States  <=50K  \n",
              "4             0             0              40           Cuba  <=50K  "
            ]
          },
          "execution_count": 36,
          "metadata": {},
          "output_type": "execute_result"
        }
      ],
      "source": [
        "df = pd.read_csv('adult.data.csv')\n",
        "df.head()"
      ]
    },
    {
      "cell_type": "code",
      "execution_count": 37,
      "id": "9108bc91",
      "metadata": {},
      "outputs": [
        {
          "data": {
            "text/plain": [
              "race\n",
              "White                 27816\n",
              "Black                  3124\n",
              "Asian-Pac-Islander     1039\n",
              "Amer-Indian-Eskimo      311\n",
              "Other                   271\n",
              "Name: count, dtype: int64"
            ]
          },
          "execution_count": 37,
          "metadata": {},
          "output_type": "execute_result"
        }
      ],
      "source": [
        "df.race.value_counts()"
      ]
    },
    {
      "cell_type": "code",
      "execution_count": 38,
      "id": "fac45d0a",
      "metadata": {},
      "outputs": [],
      "source": [
        "men_avg_age = round(df[df['sex'] == 'Male']['age'].mean(),2)"
      ]
    },
    {
      "cell_type": "code",
      "execution_count": 39,
      "id": "e15b3ed5",
      "metadata": {},
      "outputs": [
        {
          "data": {
            "text/plain": [
              "np.float64(39.43)"
            ]
          },
          "execution_count": 39,
          "metadata": {},
          "output_type": "execute_result"
        }
      ],
      "source": [
        "men_avg_age"
      ]
    },
    {
      "cell_type": "code",
      "execution_count": 40,
      "id": "c3ba4c68",
      "metadata": {},
      "outputs": [],
      "source": [
        "degree_count = round((df['education'].value_counts(normalize=True)['Bachelors'] * 100), 1)"
      ]
    },
    {
      "cell_type": "code",
      "execution_count": 41,
      "id": "fbbe0ce8",
      "metadata": {},
      "outputs": [
        {
          "data": {
            "text/plain": [
              "np.float64(16.4)"
            ]
          },
          "execution_count": 41,
          "metadata": {},
          "output_type": "execute_result"
        }
      ],
      "source": [
        "degree_count"
      ]
    },
    {
      "cell_type": "code",
      "execution_count": null,
      "id": "4f161a2f",
      "metadata": {},
      "outputs": [],
      "source": [
        "higher_education = df['education'].isin(['Bachelors', 'Masters', 'Doctorate'])\n",
        "lower_education = df['education'].isin([\n",
        "    'HS-grad', 'Some-college', 'Assoc-acdm', 'Assoc-voc',\n",
        "    '11th', '9th', '7th-8th', '12th', '10th', '1st-4th',\n",
        "    '5th-6th', 'Preschool'\n",
        "])\n",
        "\n",
        "higher_education_pr = round((df[higher_education]['salary'] == '>50K').mean() * 100, 2)\n",
        "lower_education_pr = round((df[lower_education]['salary'] == '>50K').mean() * 100, 2\n",
        "                           )"
      ]
    },
    {
      "cell_type": "code",
      "execution_count": 46,
      "id": "2cd489df",
      "metadata": {},
      "outputs": [
        {
          "data": {
            "text/plain": [
              "np.float64(46.54)"
            ]
          },
          "execution_count": 46,
          "metadata": {},
          "output_type": "execute_result"
        }
      ],
      "source": [
        "higher_education_pr"
      ]
    },
    {
      "cell_type": "code",
      "execution_count": 47,
      "id": "2e4674d9",
      "metadata": {},
      "outputs": [
        {
          "data": {
            "text/plain": [
              "np.float64(16.05)"
            ]
          },
          "execution_count": 47,
          "metadata": {},
          "output_type": "execute_result"
        }
      ],
      "source": [
        "lower_education_pr"
      ]
    },
    {
      "cell_type": "code",
      "execution_count": 48,
      "id": "c986530d",
      "metadata": {},
      "outputs": [
        {
          "data": {
            "text/plain": [
              "np.int64(1)"
            ]
          },
          "execution_count": 48,
          "metadata": {},
          "output_type": "execute_result"
        }
      ],
      "source": [
        "min_work_hours = df['hours-per-week'].min()\n",
        "min_work_hours"
      ]
    },
    {
      "cell_type": "code",
      "execution_count": 49,
      "id": "c3f40a5c",
      "metadata": {},
      "outputs": [
        {
          "data": {
            "text/plain": [
              "np.float64(10.0)"
            ]
          },
          "execution_count": 49,
          "metadata": {},
          "output_type": "execute_result"
        }
      ],
      "source": [
        "min_workers = df[df['hours-per-week'] == min_work_hours]\n",
        "percentage = round((min_workers['salary'] == '>50K').mean() * 100, 1)\n",
        "percentage\n"
      ]
    },
    {
      "cell_type": "code",
      "execution_count": 51,
      "id": "c46e013e",
      "metadata": {},
      "outputs": [
        {
          "data": {
            "text/plain": [
              "native-country\n",
              "?           25.042882\n",
              "Cambodia    36.842105\n",
              "Canada      32.231405\n",
              "China       26.666667\n",
              "Columbia     3.389831\n",
              "Name: count, dtype: float64"
            ]
          },
          "execution_count": 51,
          "metadata": {},
          "output_type": "execute_result"
        }
      ],
      "source": [
        "country = (df[df['salary'] == '>50K']['native-country']\n",
        "                .value_counts() / df['native-country'].value_counts()) * 100\n",
        "country.head()"
      ]
    },
    {
      "cell_type": "code",
      "execution_count": 52,
      "id": "be9104bc",
      "metadata": {},
      "outputs": [
        {
          "data": {
            "text/plain": [
              "np.float64(41.86)"
            ]
          },
          "execution_count": 52,
          "metadata": {},
          "output_type": "execute_result"
        }
      ],
      "source": [
        "highest_earning_country = country.idxmax()\n",
        "highest_earning_country_percentage = round(country.max(), 2)\n",
        "highest_earning_country_percentage"
      ]
    },
    {
      "cell_type": "code",
      "execution_count": 53,
      "id": "f80b8267",
      "metadata": {},
      "outputs": [
        {
          "data": {
            "text/plain": [
              "'Prof-specialty'"
            ]
          },
          "execution_count": 53,
          "metadata": {},
          "output_type": "execute_result"
        }
      ],
      "source": [
        "top_occupation = (df[(df['native-country'] == 'India') & (df['salary'] == '>50K')]\n",
        "                     ['occupation'].value_counts().idxmax())\n",
        "top_occupation"
      ]
    },
    {
      "cell_type": "code",
      "execution_count": null,
      "id": "a2f23629",
      "metadata": {},
      "outputs": [],
      "source": []
    }
  ],
  "metadata": {
    "kernelspec": {
      "display_name": "Python 3",
      "language": "python",
      "name": "python3"
    },
    "language_info": {
      "codemirror_mode": {
        "name": "ipython",
        "version": 3
      },
      "file_extension": ".py",
      "mimetype": "text/x-python",
      "name": "python",
      "nbconvert_exporter": "python",
      "pygments_lexer": "ipython3",
      "version": "3.13.5"
    },
    "orig_nbformat": 4
  },
  "nbformat": 4,
  "nbformat_minor": 5
}
